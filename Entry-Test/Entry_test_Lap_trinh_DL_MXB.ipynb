{
 "cells": [
  {
   "cell_type": "code",
   "execution_count": 1,
   "id": "4580e406",
   "metadata": {},
   "outputs": [],
   "source": [
    "# Mai Xuan Bach"
   ]
  },
  {
   "cell_type": "code",
   "execution_count": 1,
   "id": "b72faad9",
   "metadata": {},
   "outputs": [
    {
     "name": "stdout",
     "output_type": "stream",
     "text": [
      "Requirement already satisfied: opencv-python in c:\\programdata\\anaconda3\\lib\\site-packages (4.6.0.66)Note: you may need to restart the kernel to use updated packages.\n",
      "Requirement already satisfied: numpy>=1.19.3 in c:\\programdata\\anaconda3\\lib\\site-packages (from opencv-python) (1.20.3)\n",
      "\n"
     ]
    }
   ],
   "source": [
    "pip install opencv-python"
   ]
  },
  {
   "cell_type": "code",
   "execution_count": 2,
   "id": "03185528",
   "metadata": {},
   "outputs": [],
   "source": [
    "import pandas as pd"
   ]
  },
  {
   "cell_type": "code",
   "execution_count": 3,
   "id": "92ed4401",
   "metadata": {},
   "outputs": [],
   "source": [
    "import pandas as pd\n",
    "import matplotlib.pyplot as plt\n",
    "import numpy as np"
   ]
  },
  {
   "cell_type": "code",
   "execution_count": 4,
   "id": "0197a98e",
   "metadata": {},
   "outputs": [],
   "source": [
    "import cv2"
   ]
  },
  {
   "cell_type": "markdown",
   "id": "26a26b0e",
   "metadata": {},
   "source": [
    "## Bài 1\n"
   ]
  },
  {
   "cell_type": "code",
   "execution_count": 5,
   "id": "7fcf633e",
   "metadata": {},
   "outputs": [
    {
     "data": {
      "text/html": [
       "<div>\n",
       "<style scoped>\n",
       "    .dataframe tbody tr th:only-of-type {\n",
       "        vertical-align: middle;\n",
       "    }\n",
       "\n",
       "    .dataframe tbody tr th {\n",
       "        vertical-align: top;\n",
       "    }\n",
       "\n",
       "    .dataframe thead th {\n",
       "        text-align: right;\n",
       "    }\n",
       "</style>\n",
       "<table border=\"1\" class=\"dataframe\">\n",
       "  <thead>\n",
       "    <tr style=\"text-align: right;\">\n",
       "      <th></th>\n",
       "      <th>Diện tích</th>\n",
       "      <th>Giá</th>\n",
       "    </tr>\n",
       "  </thead>\n",
       "  <tbody>\n",
       "    <tr>\n",
       "      <th>0</th>\n",
       "      <td>30.0000</td>\n",
       "      <td>448.524</td>\n",
       "    </tr>\n",
       "    <tr>\n",
       "      <th>1</th>\n",
       "      <td>32.4138</td>\n",
       "      <td>509.248</td>\n",
       "    </tr>\n",
       "    <tr>\n",
       "      <th>2</th>\n",
       "      <td>34.8276</td>\n",
       "      <td>535.104</td>\n",
       "    </tr>\n",
       "    <tr>\n",
       "      <th>3</th>\n",
       "      <td>37.2414</td>\n",
       "      <td>551.432</td>\n",
       "    </tr>\n",
       "    <tr>\n",
       "      <th>4</th>\n",
       "      <td>39.6552</td>\n",
       "      <td>623.418</td>\n",
       "    </tr>\n",
       "  </tbody>\n",
       "</table>\n",
       "</div>"
      ],
      "text/plain": [
       "   Diện tích      Giá\n",
       "0    30.0000  448.524\n",
       "1    32.4138  509.248\n",
       "2    34.8276  535.104\n",
       "3    37.2414  551.432\n",
       "4    39.6552  623.418"
      ]
     },
     "execution_count": 5,
     "metadata": {},
     "output_type": "execute_result"
    }
   ],
   "source": [
    "data = pd.read_csv(\"./Entry_test_data/data_linear_1.csv\")\n",
    "data.head()"
   ]
  },
  {
   "cell_type": "code",
   "execution_count": 6,
   "id": "33198b1a",
   "metadata": {},
   "outputs": [
    {
     "data": {
      "text/plain": [
       "Text(0, 0.5, 'Giá nhà')"
      ]
     },
     "execution_count": 6,
     "metadata": {},
     "output_type": "execute_result"
    },
    {
     "data": {
      "image/png": "[encoded data removed]",
      "text/plain": [
       "<Figure size 432x288 with 1 Axes>"
      ]
     },
     "metadata": {
      "needs_background": "light"
     },
     "output_type": "display_data"
    }
   ],
   "source": [
    "x = np.array(data[\"Diện tích\"]).reshape(-1, 1)\n",
    "y = np.array(data[\"Giá\"]).reshape(-1, 1)\n",
    "\n",
    "plt.scatter(x, y, color = \"red\")\n",
    "plt.xlabel('Diện tích')\n",
    "plt.ylabel('Giá nhà')"
   ]
  },
  {
   "cell_type": "markdown",
   "id": "661c782f",
   "metadata": {},
   "source": [
    "## Bài 2"
   ]
  },
  {
   "cell_type": "code",
   "execution_count": 8,
   "id": "f4bf9566",
   "metadata": {},
   "outputs": [],
   "source": [
    "image = cv2.imread('./Entry_test_data/image.png')         #read the image\n",
    "\n",
    "#print(image.shape)\n",
    "height, width, channel = image.shape    #get the image shape to know its height, width and channel (colors)\n",
    "\n",
    "#print('width: ', width)\n",
    "#print('height:', height)\n",
    "\n",
    "cv2.imshow(\"Base image\", image)      #test showing base image\n",
    "cv2.waitKey(0)                  #press key \"0\" to shut down the image windows\n",
    "cv2.destroyAllWindows()"
   ]
  },
  {
   "cell_type": "code",
   "execution_count": 9,
   "id": "f4350acd",
   "metadata": {},
   "outputs": [],
   "source": [
    "\n",
    "def crop_image(img, cropped_height, cropped_width):\n",
    "    \"\"\"\n",
    "    :param img: base image read by cv2.imread()\n",
    "    :param cropped_height: new height (int type)\n",
    "    :param cropped_width: new width (int type)\n",
    "    :return: the image that is cropped\n",
    "    \"\"\"\n",
    "\n",
    "    cropped_image = img[0:cropped_height, 0:cropped_width]\n",
    "\n",
    "    cv2.imshow('Cropped image', cropped_image)\n",
    "    cv2.waitKey(0)\n",
    "    cv2.destroyAllWindows()\n",
    "\n",
    "    return cropped_image\n",
    "\n",
    "def resize_image(img, resized_height, resized_width):\n",
    "    \"\"\"\n",
    "    Resize by lowering the image pixels\n",
    "    \n",
    "    :param img: base image read by cv2.imread()\n",
    "    :param resized_height: new height (int type)    \n",
    "    :param resized_width: new width (int type)\n",
    "    :return image that is resized\n",
    "    \"\"\"\n",
    "\n",
    "    resized_image = cv2.resize(img, (resized_width, resized_height), interpolation=cv2.INTER_AREA)\n",
    "    # INTER_AREA interpolation method: resampling using pixel area relation\n",
    "\n",
    "    cv2.imshow('resized image', resized_image)\n",
    "    cv2.waitKey(0)\n",
    "    cv2.destroyAllWindows()\n",
    "\n",
    "    return resized_image\n",
    "\n",
    "def gaussian_blurring(img, kernel_size):\n",
    "    \"\"\"\n",
    "    Smoothing the image by applying Gaussian blur method\n",
    "\n",
    "    :param img: base iamge read by cv2.imread()\n",
    "    :param kernel_size: a tuple (x,y); x,y are positive and odd; higher x,y -> more blurred\n",
    "    :return: the image that is smoothed\n",
    "    \"\"\"\n",
    "\n",
    "    blurred_image = cv2.GaussianBlur(img, kernel_size, cv2.BORDER_DEFAULT)\n",
    "    #third param is type of border (use default)\n",
    "\n",
    "    cv2.imshow('Blurred image', blurred_image)\n",
    "    cv2.waitKey(0)\n",
    "    cv2.destroyAllWindows()\n",
    "\n",
    "    return blurred_image\n",
    "\n",
    "def detect_edges_sobel(img):\n",
    "    \"\"\"\n",
    "    Detect edges by using Sobel method\n",
    "    :param img: base image read by cv2.imread()\n",
    "    :return: three types of Sobel method [X, Y, XY]\n",
    "    \"\"\"\n",
    "    #Convert to graycsale\n",
    "    img_gray = cv2.cvtColor(img, cv2.COLOR_BGR2GRAY)\n",
    "    #Blur the image for better edge detection\n",
    "    img_blur = cv2.GaussianBlur(img_gray, (3,3), cv2.BORDER_DEFAULT)\n",
    "\n",
    "    ## Sobel Edge Detection\n",
    "\n",
    "    #Sobel Edge Detection on the X axis\n",
    "    sobelx_img = cv2.Sobel(src=img_blur, ddepth=cv2.CV_64F, dx=1, dy=0, ksize=5)\n",
    "    #ddepth specifies the precision of the output image\n",
    "    #dx and dy specify the order of the derivative in each direction\n",
    "\n",
    "    #Sobel Edge Detection on the Y axis\n",
    "    sobely_img = cv2.Sobel(src=img_blur, ddepth=cv2.CV_64F, dx=0, dy=1, ksize=5)\n",
    "\n",
    "    #Combined X and Y Sobel Edge Detection\n",
    "    sobelxy_img = cv2.Sobel(src=img_blur, ddepth=cv2.CV_64F, dx=1, dy=1, ksize=5)\n",
    "\n",
    "    cv2.imshow('Sobel X', sobelx_img)\n",
    "    cv2.waitKey(0)\n",
    "    cv2.destroyAllWindows()\n",
    "\n",
    "    cv2.imshow('Sobel Y', sobely_img)\n",
    "    cv2.waitKey(0)\n",
    "    cv2.destroyAllWindows()\n",
    "\n",
    "    cv2.imshow('Sobel XY', sobelxy_img)\n",
    "    cv2.waitKey(0)\n",
    "    cv2.destroyAllWindows()\n",
    "\n",
    "    return sobelx_img, sobely_img, sobelxy_img\n",
    "\n",
    "def detect_edges_canny(img, threshold1, threshold2):\n",
    "    \"\"\"\n",
    "    Detect edges by using Canny method\n",
    "    :param img: base image read by cv2.imread()\n",
    "    :return: Canny Edge Detection Image\n",
    "    \"\"\"\n",
    "    #Convert to graycsale\n",
    "    img_gray = cv2.cvtColor(img, cv2.COLOR_BGR2GRAY)\n",
    "    #Blur the image for better edge detection\n",
    "    img_blur = cv2.GaussianBlur(img_gray, (3,3), cv2.BORDER_DEFAULT)\n",
    "\n",
    "    canny_edges_img = cv2.Canny(image=img_blur, threshold1=threshold1, threshold2=threshold2)\n",
    "    #gradient magnitude value of pixel < threshold1 => be EXCLUDED in the final edge map\n",
    "    #gradient magnitude value of pixel > threshold2 => be INCLUDED in the final edge map\n",
    "\n",
    "    cv2.imshow('Canny edges', canny_edges_img)\n",
    "    cv2.waitKey(0)\n",
    "    cv2.destroyAllWindows()\n",
    "\n",
    "    return canny_edges_img\n"
   ]
  },
  {
   "cell_type": "code",
   "execution_count": 10,
   "id": "a635f933",
   "metadata": {},
   "outputs": [
    {
     "data": {
      "text/plain": [
       "array([[[  0,   0,   0],\n",
       "        [  0,   0,   0],\n",
       "        [  0,   0,   0],\n",
       "        ...,\n",
       "        [ 49, 199, 255],\n",
       "        [ 12, 117,  72],\n",
       "        [  0,  79,   0]],\n",
       "\n",
       "       [[  0,   0,   0],\n",
       "        [  0,   0,   0],\n",
       "        [  0,   0,   0],\n",
       "        ...,\n",
       "        [ 55, 227, 255],\n",
       "        [ 10, 117,  66],\n",
       "        [  0,  75,   0]],\n",
       "\n",
       "       [[  0,   0,   0],\n",
       "        [  0,   0,   0],\n",
       "        [  0,   0,   0],\n",
       "        ...,\n",
       "        [ 51, 215, 255],\n",
       "        [ 10, 110,  60],\n",
       "        [  0,  72,   0]],\n",
       "\n",
       "       ...,\n",
       "\n",
       "       [[  0,   0,   0],\n",
       "        [  0,   0,   0],\n",
       "        [  0,   0,   0],\n",
       "        ...,\n",
       "        [128, 233, 255],\n",
       "        [ 94, 193, 218],\n",
       "        [  0,  73,   0]],\n",
       "\n",
       "       [[  0,   0,   0],\n",
       "        [  0,   0,   0],\n",
       "        [  0,   0,   0],\n",
       "        ...,\n",
       "        [ 42, 134,  98],\n",
       "        [ 31, 122,  73],\n",
       "        [  0,  79,   0]],\n",
       "\n",
       "       [[  0,   0,   0],\n",
       "        [  0,   0,   0],\n",
       "        [  0,   0,   0],\n",
       "        ...,\n",
       "        [  0,  70,   0],\n",
       "        [  0,  74,   0],\n",
       "        [  0,  84,   0]]], dtype=uint8)"
      ]
     },
     "execution_count": 10,
     "metadata": {},
     "output_type": "execute_result"
    }
   ],
   "source": [
    "#1. Crop the 1/4 top left corner of the image\n",
    "#Do it by slicing the image\n",
    "cropped_height = int(height/2)\n",
    "cropped_width = int(width/2)\n",
    "\n",
    "crop_image(image, cropped_height, cropped_width)"
   ]
  },
  {
   "cell_type": "code",
   "execution_count": 11,
   "id": "4ebefcd4",
   "metadata": {},
   "outputs": [
    {
     "data": {
      "text/plain": [
       "array([[[0, 0, 0],\n",
       "        [0, 0, 0],\n",
       "        [0, 0, 0],\n",
       "        ...,\n",
       "        [0, 0, 0],\n",
       "        [0, 0, 0],\n",
       "        [0, 0, 0]],\n",
       "\n",
       "       [[0, 0, 0],\n",
       "        [0, 0, 0],\n",
       "        [0, 0, 0],\n",
       "        ...,\n",
       "        [0, 0, 0],\n",
       "        [0, 0, 0],\n",
       "        [0, 0, 0]],\n",
       "\n",
       "       [[0, 0, 0],\n",
       "        [0, 0, 0],\n",
       "        [0, 0, 0],\n",
       "        ...,\n",
       "        [0, 0, 0],\n",
       "        [0, 0, 0],\n",
       "        [0, 0, 0]],\n",
       "\n",
       "       ...,\n",
       "\n",
       "       [[0, 0, 0],\n",
       "        [0, 0, 0],\n",
       "        [0, 0, 0],\n",
       "        ...,\n",
       "        [0, 0, 0],\n",
       "        [0, 0, 0],\n",
       "        [0, 0, 0]],\n",
       "\n",
       "       [[0, 0, 0],\n",
       "        [0, 0, 0],\n",
       "        [0, 0, 0],\n",
       "        ...,\n",
       "        [0, 0, 0],\n",
       "        [0, 0, 0],\n",
       "        [0, 0, 0]],\n",
       "\n",
       "       [[0, 0, 0],\n",
       "        [0, 0, 0],\n",
       "        [0, 0, 0],\n",
       "        ...,\n",
       "        [0, 0, 0],\n",
       "        [0, 0, 0],\n",
       "        [0, 0, 0]]], dtype=uint8)"
      ]
     },
     "execution_count": 11,
     "metadata": {},
     "output_type": "execute_result"
    }
   ],
   "source": [
    "#2. Resize half height, width of the image\n",
    "resized_height = int(height/2)\n",
    "resized_width = int(width/2)\n",
    "\n",
    "resize_image(image, resized_height, resized_width)"
   ]
  },
  {
   "cell_type": "code",
   "execution_count": 12,
   "id": "94a9dfcf",
   "metadata": {},
   "outputs": [],
   "source": [
    "#3. Gaussian Blurring\n",
    "kernel_size = (7,7)\n",
    "\n",
    "blurred_image = gaussian_blurring(image, kernel_size)"
   ]
  },
  {
   "cell_type": "code",
   "execution_count": 13,
   "id": "798c9dd7",
   "metadata": {},
   "outputs": [
    {
     "data": {
      "text/plain": [
       "array([[0, 0, 0, ..., 0, 0, 0],\n",
       "       [0, 0, 0, ..., 0, 0, 0],\n",
       "       [0, 0, 0, ..., 0, 0, 0],\n",
       "       ...,\n",
       "       [0, 0, 0, ..., 0, 0, 0],\n",
       "       [0, 0, 0, ..., 0, 0, 0],\n",
       "       [0, 0, 0, ..., 0, 0, 0]], dtype=uint8)"
      ]
     },
     "execution_count": 13,
     "metadata": {},
     "output_type": "execute_result"
    }
   ],
   "source": [
    "#4. detect \"edges\" in the image\n",
    "detect_edges_sobel(image)\n",
    "detect_edges_canny(image, 5, 15)"
   ]
  },
  {
   "cell_type": "code",
   "execution_count": null,
   "id": "673014ed",
   "metadata": {},
   "outputs": [],
   "source": []
  }
 ],
 "metadata": {
  "kernelspec": {
   "display_name": "Python 3 (ipykernel)",
   "language": "python",
   "name": "python3"
  },
  "language_info": {
   "codemirror_mode": {
    "name": "ipython",
    "version": 3
   },
   "file_extension": ".py",
   "mimetype": "text/x-python",
   "name": "python",
   "nbconvert_exporter": "python",
   "pygments_lexer": "ipython3",
   "version": "3.9.7"
  }
 },
 "nbformat": 4,
 "nbformat_minor": 5
}
